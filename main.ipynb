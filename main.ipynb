import pandas as pd
from IPython.display import clear_output

# Categorias pré-definidas
CATEGORIES = [
    'Interior',
    'Segurança Pública',
    'Órgãos Municipais',
    'Órgãos Estadual',
    'Conselho Tutelar',
    'Órgãos Federais',
    'Diversos',
    'Conselhos Profissionais'
]

# Tenta carregar contatos salvos ou cria DataFrame vazio
try:
    contacts = pd.read_csv('contacts.csv', index_col=0)
except FileNotFoundError:
    contacts = pd.DataFrame(columns=['Institution','Role','Phone','Email','Categories'])

def add_contact():
    clear_output()
    name = input("Nome da Instituição (obrigatório): ").strip()
    if not name:
        print("Erro: instituição é obrigatória.")
        return
    role  = input("Presidente/Secretário/Gestor (opcional): ").strip()
    phone = input("Número telefônico (opcional): ").strip()
    email = input("E-mail (obrigatório): ").strip()
    if not email:
        print("Erro: e-mail é obrigatório.")
        return

    # Seleção de categorias
    print("\nCategorias disponíveis:")
    for i, cat in enumerate(CATEGORIES, 1):
        print(f"{i}. {cat}")
    sel = input("Selecione categorias (vírgula separados, ex: 1,4): ")
    cats = []
    for part in sel.split(','):
        try:
            idx = int(part.strip()) - 1
            if 0 <= idx < len(CATEGORIES):
                cats.append(CATEGORIES[idx])
        except:
            pass
    if not cats:
        print("Erro: selecione ao menos uma categoria.")
        return

    contacts.loc[name] = [name, role, phone, email, ';'.join(cats)]
    contacts.to_csv('contacts.csv')
    print(f"\n📂 Contato '{name}' adicionado com sucesso!")
    show_category(cats[0])

def edit_contact():
    clear_output()
    name = input("Nome da Instituição a editar: ").strip()
    if name not in contacts.index:
        print("Erro: instituição não encontrada.")
        return
    row = contacts.loc[name].copy()

    new_name  = input(f"Instituição [{row['Institution']}]: ").strip()
    new_role  = input(f"Role [{row['Role']}]: ").strip()
    new_phone = input(f"Phone [{row['Phone']}]: ").strip()
    new_email = input(f"E-mail [{row['Email']}]: ").strip()

    # Atualiza valores se não-vazios
    if new_name:  row['Institution'] = new_name
    if new_role:  row['Role']        = new_role
    if new_phone: row['Phone']       = new_phone
    if new_email: row['Email']       = new_email

    print("\nCategorias disponíveis:")
    for i, cat in enumerate(CATEGORIES, 1):
        print(f"{i}. {cat}")
    print("Atuais:", row['Categories'])
    sel = input("Selecione NOVAS categorias (vírgula separados) ou ENTER para manter: ")
    if sel.strip():
        cats = []
        for part in sel.split(','):
            try:
                idx = int(part.strip()) - 1
                if 0 <= idx < len(CATEGORIES):
                    cats.append(CATEGORIES[idx])
            except:
                pass
        if cats:
            row['Categories'] = ';'.join(cats)

    # Remove linha antiga se nome mudou
    contacts.drop(name, inplace=True)
    contacts.loc[row['Institution']] = row
    contacts.to_csv('contacts.csv')
    print(f"\n✏️ Contato '{row['Institution']}' editado com sucesso!")
    first_cat = row['Categories'].split(';')[0]
    show_category(first_cat)

def show_category(category: str):
    clear_output()
    df = contacts[contacts['Categories'].str.contains(category, case=False)]
    if df.empty:
        print(f"Nenhum contato na categoria '{category}'.")
        return
    df = df.sort_values('Institution')
    print(f"📑 Contatos na categoria '{category}' (ordem alfabética):\n")
    for _, r in df.iterrows():
        # transforma categorias em hashtags
        tags = ' '.join('#' + c.replace(' ', '') for c in r['Categories'].split(';'))
        print(f"{tags}\n🏢 {r['Institution']}\n✉️ {r['Email']}", end='')
        if r['Role']:  print(f"\n👤 {r['Role']}", end='')
        if r['Phone']: print(f"\n📞 {r['Phone']}", end='')
        print("\n" + "-"*40)

def menu():
    while True:
        print("""
=== Gerenciador de Contatos ===
1 - Adicionar contato
2 - Editar contato
3 - Exibir contatos por categoria
4 - Sair
""")
        opt = input("Opção: ").strip()
        if opt == '1':
            add_contact()
        elif opt == '2':
            edit_contact()
        elif opt == '3':
            print("\nCategorias disponíveis:")
            for i, cat in enumerate(CATEGORIES, 1):
                print(f"{i}. {cat}")
            sel = input("Escolha uma categoria (número): ").strip()
            try:
                idx = int(sel)-1
                if 0 <= idx < len(CATEGORIES):
                    show_category(CATEGORIES[idx])
                else:
                    print("Seleção inválida.")
            except:
                print("Seleção inválida.")
        elif opt == '4':
            break
        else:
            print("Opção inválida.")

# Executa o menu
menu()
